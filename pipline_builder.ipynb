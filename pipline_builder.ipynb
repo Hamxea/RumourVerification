{
 "cells": [
  {
   "cell_type": "code",
   "execution_count": 1,
   "metadata": {},
   "outputs": [],
   "source": [
    "# "
   ]
  },
  {
   "cell_type": "code",
   "execution_count": 2,
   "metadata": {},
   "outputs": [],
   "source": [
    "import json\n",
    "import pandas as pd\n",
    "from rapidfuzz import fuzz\n",
    "\n",
    "from sklearn.model_selection import train_test_split"
   ]
  },
  {
   "cell_type": "code",
   "execution_count": 3,
   "metadata": {},
   "outputs": [],
   "source": [
    "input_file_path = '/home/hmx/Downloads/RumourVerification/data/English_test.json'\n",
    "\n",
    "# Path to the corrected JSON file\n",
    "corrected_file_path = '/home/hmx/Downloads/RumourVerification/data/Corrected_English_test.json'\n",
    "output_file_path = '/home/hmx/Downloads/RumourVerification/data/Updated_English_test.json'\n",
    "\n",
    "output_file_with_pred_path = '/home/hmx/Downloads/RumourVerification/data/Updated_English_test_with_predictions.json'\n",
    "\n",
    "\n",
    "# train data\n",
    "train_data_file_path = '/home/hmx/Downloads/RumourVerification/data/English_train.json'"
   ]
  },
  {
   "cell_type": "code",
   "execution_count": 4,
   "metadata": {},
   "outputs": [
    {
     "name": "stdout",
     "output_type": "stream",
     "text": [
      "Corrected JSON file has been saved to /home/hmx/Downloads/RumourVerification/data/Corrected_English_test.json\n"
     ]
    }
   ],
   "source": [
    "import json\n",
    "\n",
    "\n",
    "# Step 1: Read the entire file content line by line\n",
    "json_objects = []\n",
    "with open(input_file_path, 'r', encoding='utf-8') as file:\n",
    "    for line in file:\n",
    "        if line.strip():  # Check if the line is not empty\n",
    "            json_objects.append(json.loads(line))\n",
    "\n",
    "# Step 2: Write the list of JSON objects to a new file\n",
    "with open(corrected_file_path, 'w', encoding='utf-8') as file:\n",
    "    json.dump(json_objects, file, ensure_ascii=False, indent=4)\n",
    "\n",
    "print(f\"Corrected JSON file has been saved to {corrected_file_path}\")"
   ]
  },
  {
   "cell_type": "code",
   "execution_count": 5,
   "metadata": {},
   "outputs": [
    {
     "name": "stdout",
     "output_type": "stream",
     "text": [
      "Updated JSON file has been saved to /home/hmx/Downloads/RumourVerification/data/Updated_English_test.json\n"
     ]
    }
   ],
   "source": [
    "# Step 1: Read the corrected JSON data\n",
    "with open(corrected_file_path, 'r', encoding='utf-8') as file:\n",
    "    data = json.load(file)\n",
    "\n",
    "# Step 2: Calculate similarity and update the timeline\n",
    "for item in data:\n",
    "    rumor = item.get('rumor', '')\n",
    "    timeline = item.get('timeline', [])\n",
    "    \n",
    "    # Calculate similarity for each element in the timeline\n",
    "    for i in range(len(timeline)):\n",
    "        similarity = fuzz.ratio(rumor, timeline[i][2])  # Assuming the text to compare is in the third position\n",
    "        timeline[i].append(similarity)\n",
    "    \n",
    "    # Sort the timeline based on similarity values\n",
    "    timeline.sort(key=lambda x: x[-1], reverse=True)\n",
    "\n",
    "# Step 3: Save the updated JSON data to a new file\n",
    "with open(output_file_path, 'w', encoding='utf-8') as file:\n",
    "    json.dump(data, file, ensure_ascii=False, indent=4)\n",
    "\n",
    "print(f\"Updated JSON file has been saved to {output_file_path}\")"
   ]
  },
  {
   "cell_type": "code",
   "execution_count": 6,
   "metadata": {},
   "outputs": [],
   "source": [
    "# Train-Prediction Phase\n",
    "\n",
    "def parse_json_file_to_df(file_path):\n",
    "    parsed_data = {\n",
    "        'ID': [],\n",
    "        'Rumor': [],\n",
    "        'Label': [],\n",
    "        'Timeline_URLs': [],\n",
    "        'Timeline_Tweet_IDs': [],\n",
    "        'Timeline_Contents': [],\n",
    "        'Evidence_URLs': [],\n",
    "        'Evidence_Tweet_IDs': [],\n",
    "        'Evidence_Contents': []\n",
    "    }\n",
    "    \n",
    "    with open(file_path, 'r') as file:\n",
    "        for line in file:\n",
    "            try:\n",
    "                item = json.loads(line)\n",
    "                \n",
    "                parsed_data['ID'].append(item.get('id'))\n",
    "                parsed_data['Rumor'].append(item.get('rumor'))\n",
    "                parsed_data['Label'].append(item.get('label'))\n",
    "                \n",
    "                timeline_urls = []\n",
    "                timeline_tweet_ids = []\n",
    "                timeline_contents = []\n",
    "                for timeline_entry in item.get('timeline', []):\n",
    "                    timeline_urls.append(timeline_entry[0])\n",
    "                    timeline_tweet_ids.append(timeline_entry[1])\n",
    "                    timeline_contents.append(timeline_entry[2])\n",
    "                parsed_data['Timeline_URLs'].append(timeline_urls)\n",
    "                parsed_data['Timeline_Tweet_IDs'].append(timeline_tweet_ids)\n",
    "                parsed_data['Timeline_Contents'].append(timeline_contents)\n",
    "                \n",
    "                evidence_urls = []\n",
    "                evidence_tweet_ids = []\n",
    "                evidence_contents = []\n",
    "                for evidence_entry in item.get('evidence', []):\n",
    "                    evidence_urls.append(evidence_entry[0])\n",
    "                    evidence_tweet_ids.append(evidence_entry[1])\n",
    "                    evidence_contents.append(evidence_entry[2])\n",
    "                parsed_data['Evidence_URLs'].append(evidence_urls)\n",
    "                parsed_data['Evidence_Tweet_IDs'].append(evidence_tweet_ids)\n",
    "                parsed_data['Evidence_Contents'].append(evidence_contents)\n",
    "                \n",
    "            except json.JSONDecodeError as e:\n",
    "                print(f\"Error decoding JSON: {e}\")\n",
    "                continue\n",
    "    \n",
    "    df = pd.DataFrame(parsed_data)\n",
    "    return df"
   ]
  },
  {
   "cell_type": "code",
   "execution_count": 7,
   "metadata": {},
   "outputs": [
    {
     "data": {
      "text/html": [
       "<div>\n",
       "<style scoped>\n",
       "    .dataframe tbody tr th:only-of-type {\n",
       "        vertical-align: middle;\n",
       "    }\n",
       "\n",
       "    .dataframe tbody tr th {\n",
       "        vertical-align: top;\n",
       "    }\n",
       "\n",
       "    .dataframe thead th {\n",
       "        text-align: right;\n",
       "    }\n",
       "</style>\n",
       "<table border=\"1\" class=\"dataframe\">\n",
       "  <thead>\n",
       "    <tr style=\"text-align: right;\">\n",
       "      <th></th>\n",
       "      <th>ID</th>\n",
       "      <th>Rumor</th>\n",
       "      <th>Label</th>\n",
       "      <th>Timeline_URLs</th>\n",
       "      <th>Timeline_Tweet_IDs</th>\n",
       "      <th>Timeline_Contents</th>\n",
       "      <th>Evidence_URLs</th>\n",
       "      <th>Evidence_Tweet_IDs</th>\n",
       "      <th>Evidence_Contents</th>\n",
       "    </tr>\n",
       "  </thead>\n",
       "  <tbody>\n",
       "    <tr>\n",
       "      <th>0</th>\n",
       "      <td>AuRED_014</td>\n",
       "      <td>“#Urgent / Ramallah Ministry of Health spokesm...</td>\n",
       "      <td>REFUTES</td>\n",
       "      <td>[https://twitter.com/ibrahimmilhim, https://tw...</td>\n",
       "      <td>[1357270458756960257, 1357270456915685377, 135...</td>\n",
       "      <td>[\"Qalqilya (5), Bethlehem (10), Nablus (24), J...</td>\n",
       "      <td>[https://twitter.com/palestine_moh, https://tw...</td>\n",
       "      <td>[1357211717479116800, 1356683687870488576, 135...</td>\n",
       "      <td>[Pictures from the launch of the vaccination c...</td>\n",
       "    </tr>\n",
       "    <tr>\n",
       "      <th>1</th>\n",
       "      <td>AuRED_037</td>\n",
       "      <td>Macron to Sky News: After my visit to Mrs. Fai...</td>\n",
       "      <td>REFUTES</td>\n",
       "      <td>[https://twitter.com/skynewsarabia, https://tw...</td>\n",
       "      <td>[1302029928867729411, 1302028670446444544, 130...</td>\n",
       "      <td>[#Iraq.. Record infections with #Corona and ho...</td>\n",
       "      <td>[https://twitter.com/salmanonline, https://twi...</td>\n",
       "      <td>[1301079467889131522, 1301067546200858626, 130...</td>\n",
       "      <td>[RT @HalaHomsi: Macron and Mrs. Fairouz: This ...</td>\n",
       "    </tr>\n",
       "    <tr>\n",
       "      <th>2</th>\n",
       "      <td>AuRED_085</td>\n",
       "      <td>Saudi Arabia evacuated 10 students from China ...</td>\n",
       "      <td>REFUTES</td>\n",
       "      <td>[https://twitter.com/YSUCORG, https://twitter....</td>\n",
       "      <td>[1226482043007066113, 1226481466348986369, 122...</td>\n",
       "      <td>[RT @Yemen_PM: The Yemeni Embassy in #China an...</td>\n",
       "      <td>[https://twitter.com/YSUCORG, https://twitter....</td>\n",
       "      <td>[1226482043007066113, 1225345358961762304, 122...</td>\n",
       "      <td>[RT @Yemen_PM: The Yemeni Embassy in #China an...</td>\n",
       "    </tr>\n",
       "    <tr>\n",
       "      <th>3</th>\n",
       "      <td>AuRED_089</td>\n",
       "      <td>The Corona epidemic has reached the Emirates, ...</td>\n",
       "      <td>REFUTES</td>\n",
       "      <td>[https://twitter.com/WHOEMRO, https://twitter....</td>\n",
       "      <td>[1223614769195900928, 1223608938136047616, 122...</td>\n",
       "      <td>[s. Is it safe to receive letters or packages ...</td>\n",
       "      <td>[https://twitter.com/WHOEMRO, https://twitter....</td>\n",
       "      <td>[1222506828694794240, 1223649306667778049, 122...</td>\n",
       "      <td>[Today @WHO confirmed the emergence of the fir...</td>\n",
       "    </tr>\n",
       "    <tr>\n",
       "      <th>4</th>\n",
       "      <td>AuRED_135</td>\n",
       "      <td>The official spokesman for the Football Associ...</td>\n",
       "      <td>REFUTES</td>\n",
       "      <td>[https://twitter.com/AlAhlyTV, https://twitter...</td>\n",
       "      <td>[1586138070692548610, 1586135058083381248, 158...</td>\n",
       "      <td>[Special- Dr. Khaled Al-Jawadi: Marcel is a di...</td>\n",
       "      <td>[https://twitter.com/AlAhlyTV, https://twitter...</td>\n",
       "      <td>[1585012773125120000, 1585011015032315904]</td>\n",
       "      <td>[Islam Al-Shater “warns” against fabricating n...</td>\n",
       "    </tr>\n",
       "    <tr>\n",
       "      <th>...</th>\n",
       "      <td>...</td>\n",
       "      <td>...</td>\n",
       "      <td>...</td>\n",
       "      <td>...</td>\n",
       "      <td>...</td>\n",
       "      <td>...</td>\n",
       "      <td>...</td>\n",
       "      <td>...</td>\n",
       "      <td>...</td>\n",
       "    </tr>\n",
       "    <tr>\n",
       "      <th>91</th>\n",
       "      <td>AuRED_055</td>\n",
       "      <td>The Moroccan referee apologizes to Al-Ahly pla...</td>\n",
       "      <td>NOT ENOUGH INFO</td>\n",
       "      <td>[https://twitter.com/AlAhly, https://twitter.c...</td>\n",
       "      <td>[1369774548585963524, 1369773418191740936, 136...</td>\n",
       "      <td>[ISSUE: couldn't translate, ISSUE: couldn't tr...</td>\n",
       "      <td>[]</td>\n",
       "      <td>[]</td>\n",
       "      <td>[]</td>\n",
       "    </tr>\n",
       "    <tr>\n",
       "      <th>92</th>\n",
       "      <td>AuRED_023</td>\n",
       "      <td>Good news for Al-Ahly fans.. BeIN Sports choos...</td>\n",
       "      <td>NOT ENOUGH INFO</td>\n",
       "      <td>[https://twitter.com/derradjihafid, https://tw...</td>\n",
       "      <td>[1356265561634844674, 1356252307885875202, 135...</td>\n",
       "      <td>[\"Leave him alone... National coach Jamal Belm...</td>\n",
       "      <td>[]</td>\n",
       "      <td>[]</td>\n",
       "      <td>[]</td>\n",
       "    </tr>\n",
       "    <tr>\n",
       "      <th>93</th>\n",
       "      <td>AuRED_016</td>\n",
       "      <td>Egypt does not want to give a vaccine to its c...</td>\n",
       "      <td>NOT ENOUGH INFO</td>\n",
       "      <td>[https://twitter.com/mohpegypt, https://twitte...</td>\n",
       "      <td>[1391904405012746240, 1391875695807062019, 139...</td>\n",
       "      <td>[Health: The number of recoveries from those i...</td>\n",
       "      <td>[]</td>\n",
       "      <td>[]</td>\n",
       "      <td>[]</td>\n",
       "    </tr>\n",
       "    <tr>\n",
       "      <th>94</th>\n",
       "      <td>AuRED_077</td>\n",
       "      <td>Egyptian Dr. Sir (Magdy Yacoub), the greatest ...</td>\n",
       "      <td>NOT ENOUGH INFO</td>\n",
       "      <td>[https://twitter.com/FCDOArabic, https://twitt...</td>\n",
       "      <td>[1345122644589486080, 1345110666932342785, 134...</td>\n",
       "      <td>[RT @UKinSudan: Her Majesty Queen Elizabeth se...</td>\n",
       "      <td>[]</td>\n",
       "      <td>[]</td>\n",
       "      <td>[]</td>\n",
       "    </tr>\n",
       "    <tr>\n",
       "      <th>95</th>\n",
       "      <td>AuRED_050</td>\n",
       "      <td>Officially, Mortada Mansour returns as preside...</td>\n",
       "      <td>NOT ENOUGH INFO</td>\n",
       "      <td>[https://twitter.com/ZSCOfficial, https://twit...</td>\n",
       "      <td>[1432708543992434696, 1432701693213413384, 143...</td>\n",
       "      <td>[All the best to our young goalkeeper Ahmed Na...</td>\n",
       "      <td>[]</td>\n",
       "      <td>[]</td>\n",
       "      <td>[]</td>\n",
       "    </tr>\n",
       "  </tbody>\n",
       "</table>\n",
       "<p>96 rows × 9 columns</p>\n",
       "</div>"
      ],
      "text/plain": [
       "           ID                                              Rumor  \\\n",
       "0   AuRED_014  “#Urgent / Ramallah Ministry of Health spokesm...   \n",
       "1   AuRED_037  Macron to Sky News: After my visit to Mrs. Fai...   \n",
       "2   AuRED_085  Saudi Arabia evacuated 10 students from China ...   \n",
       "3   AuRED_089  The Corona epidemic has reached the Emirates, ...   \n",
       "4   AuRED_135  The official spokesman for the Football Associ...   \n",
       "..        ...                                                ...   \n",
       "91  AuRED_055  The Moroccan referee apologizes to Al-Ahly pla...   \n",
       "92  AuRED_023  Good news for Al-Ahly fans.. BeIN Sports choos...   \n",
       "93  AuRED_016  Egypt does not want to give a vaccine to its c...   \n",
       "94  AuRED_077  Egyptian Dr. Sir (Magdy Yacoub), the greatest ...   \n",
       "95  AuRED_050  Officially, Mortada Mansour returns as preside...   \n",
       "\n",
       "              Label                                      Timeline_URLs  \\\n",
       "0           REFUTES  [https://twitter.com/ibrahimmilhim, https://tw...   \n",
       "1           REFUTES  [https://twitter.com/skynewsarabia, https://tw...   \n",
       "2           REFUTES  [https://twitter.com/YSUCORG, https://twitter....   \n",
       "3           REFUTES  [https://twitter.com/WHOEMRO, https://twitter....   \n",
       "4           REFUTES  [https://twitter.com/AlAhlyTV, https://twitter...   \n",
       "..              ...                                                ...   \n",
       "91  NOT ENOUGH INFO  [https://twitter.com/AlAhly, https://twitter.c...   \n",
       "92  NOT ENOUGH INFO  [https://twitter.com/derradjihafid, https://tw...   \n",
       "93  NOT ENOUGH INFO  [https://twitter.com/mohpegypt, https://twitte...   \n",
       "94  NOT ENOUGH INFO  [https://twitter.com/FCDOArabic, https://twitt...   \n",
       "95  NOT ENOUGH INFO  [https://twitter.com/ZSCOfficial, https://twit...   \n",
       "\n",
       "                                   Timeline_Tweet_IDs  \\\n",
       "0   [1357270458756960257, 1357270456915685377, 135...   \n",
       "1   [1302029928867729411, 1302028670446444544, 130...   \n",
       "2   [1226482043007066113, 1226481466348986369, 122...   \n",
       "3   [1223614769195900928, 1223608938136047616, 122...   \n",
       "4   [1586138070692548610, 1586135058083381248, 158...   \n",
       "..                                                ...   \n",
       "91  [1369774548585963524, 1369773418191740936, 136...   \n",
       "92  [1356265561634844674, 1356252307885875202, 135...   \n",
       "93  [1391904405012746240, 1391875695807062019, 139...   \n",
       "94  [1345122644589486080, 1345110666932342785, 134...   \n",
       "95  [1432708543992434696, 1432701693213413384, 143...   \n",
       "\n",
       "                                    Timeline_Contents  \\\n",
       "0   [\"Qalqilya (5), Bethlehem (10), Nablus (24), J...   \n",
       "1   [#Iraq.. Record infections with #Corona and ho...   \n",
       "2   [RT @Yemen_PM: The Yemeni Embassy in #China an...   \n",
       "3   [s. Is it safe to receive letters or packages ...   \n",
       "4   [Special- Dr. Khaled Al-Jawadi: Marcel is a di...   \n",
       "..                                                ...   \n",
       "91  [ISSUE: couldn't translate, ISSUE: couldn't tr...   \n",
       "92  [\"Leave him alone... National coach Jamal Belm...   \n",
       "93  [Health: The number of recoveries from those i...   \n",
       "94  [RT @UKinSudan: Her Majesty Queen Elizabeth se...   \n",
       "95  [All the best to our young goalkeeper Ahmed Na...   \n",
       "\n",
       "                                        Evidence_URLs  \\\n",
       "0   [https://twitter.com/palestine_moh, https://tw...   \n",
       "1   [https://twitter.com/salmanonline, https://twi...   \n",
       "2   [https://twitter.com/YSUCORG, https://twitter....   \n",
       "3   [https://twitter.com/WHOEMRO, https://twitter....   \n",
       "4   [https://twitter.com/AlAhlyTV, https://twitter...   \n",
       "..                                                ...   \n",
       "91                                                 []   \n",
       "92                                                 []   \n",
       "93                                                 []   \n",
       "94                                                 []   \n",
       "95                                                 []   \n",
       "\n",
       "                                   Evidence_Tweet_IDs  \\\n",
       "0   [1357211717479116800, 1356683687870488576, 135...   \n",
       "1   [1301079467889131522, 1301067546200858626, 130...   \n",
       "2   [1226482043007066113, 1225345358961762304, 122...   \n",
       "3   [1222506828694794240, 1223649306667778049, 122...   \n",
       "4          [1585012773125120000, 1585011015032315904]   \n",
       "..                                                ...   \n",
       "91                                                 []   \n",
       "92                                                 []   \n",
       "93                                                 []   \n",
       "94                                                 []   \n",
       "95                                                 []   \n",
       "\n",
       "                                    Evidence_Contents  \n",
       "0   [Pictures from the launch of the vaccination c...  \n",
       "1   [RT @HalaHomsi: Macron and Mrs. Fairouz: This ...  \n",
       "2   [RT @Yemen_PM: The Yemeni Embassy in #China an...  \n",
       "3   [Today @WHO confirmed the emergence of the fir...  \n",
       "4   [Islam Al-Shater “warns” against fabricating n...  \n",
       "..                                                ...  \n",
       "91                                                 []  \n",
       "92                                                 []  \n",
       "93                                                 []  \n",
       "94                                                 []  \n",
       "95                                                 []  \n",
       "\n",
       "[96 rows x 9 columns]"
      ]
     },
     "execution_count": 7,
     "metadata": {},
     "output_type": "execute_result"
    }
   ],
   "source": [
    "df = parse_json_file_to_df(train_data_file_path)\n",
    "df"
   ]
  },
  {
   "cell_type": "code",
   "execution_count": 8,
   "metadata": {},
   "outputs": [],
   "source": [
    "\n",
    "train_df, test_df = train_test_split(df, test_size=0.1, random_state=42)"
   ]
  },
  {
   "cell_type": "code",
   "execution_count": 9,
   "metadata": {},
   "outputs": [
    {
     "name": "stderr",
     "output_type": "stream",
     "text": [
      "/home/hmx/miniconda3/envs/rumour_verification/lib/python3.9/site-packages/thefuzz/fuzz.py:11: UserWarning: Using slow pure-python SequenceMatcher. Install python-Levenshtein to remove this warning\n",
      "  warnings.warn('Using slow pure-python SequenceMatcher. Install python-Levenshtein to remove this warning')\n",
      "/home/hmx/miniconda3/envs/rumour_verification/lib/python3.9/site-packages/tqdm/auto.py:21: TqdmWarning: IProgress not found. Please update jupyter and ipywidgets. See https://ipywidgets.readthedocs.io/en/stable/user_install.html\n",
      "  from .autonotebook import tqdm as notebook_tqdm\n",
      "/home/hmx/miniconda3/envs/rumour_verification/lib/python3.9/site-packages/huggingface_hub/file_download.py:1132: FutureWarning: `resume_download` is deprecated and will be removed in version 1.0.0. Downloads always resume when possible. If you want to force a new download, use `force_download=True`.\n",
      "  warnings.warn(\n",
      "model_head.pkl not found on HuggingFace Hub, initialising classification head with random weights. You should TRAIN this model on a downstream task to use it for predictions and inference.\n",
      "/home/hmx/miniconda3/envs/rumour_verification/lib/python3.9/site-packages/stormtrooper/set_fit.py:187: DeprecationWarning: `SetFitTrainer` has been deprecated and will be removed in v2.0.0 of SetFit. Please use `Trainer` instead.\n",
      "  self.trainer = SetFitTrainer(\n",
      "Map: 100%|██████████| 96/96 [00:00<00:00, 4196.97 examples/s]\n",
      "***** Running training *****\n",
      "  Num unique pairs = 3840\n",
      "  Batch size = 16\n",
      "  Num epochs = 1\n",
      "  Total optimization steps = 240\n",
      "  0%|          | 0/240 [00:00<?, ?it/s]\n",
      "\n",
      "\u001b[A                                            "
     ]
    },
    {
     "name": "stdout",
     "output_type": "stream",
     "text": [
      "{'embedding_loss': 0.3125, 'learning_rate': 8.333333333333333e-07, 'epoch': 0.0}\n"
     ]
    },
    {
     "name": "stderr",
     "output_type": "stream",
     "text": [
      "\n",
      "\u001b[A                                             "
     ]
    },
    {
     "name": "stdout",
     "output_type": "stream",
     "text": [
      "{'embedding_loss': 0.279, 'learning_rate': 1.7592592592592595e-05, 'epoch': 0.21}\n"
     ]
    },
    {
     "name": "stderr",
     "output_type": "stream",
     "text": [
      "\n",
      "\u001b[A                                              "
     ]
    },
    {
     "name": "stdout",
     "output_type": "stream",
     "text": [
      "{'embedding_loss': 0.0883, 'learning_rate': 1.2962962962962964e-05, 'epoch': 0.42}\n"
     ]
    },
    {
     "name": "stderr",
     "output_type": "stream",
     "text": [
      "\n",
      "\u001b[A                                              "
     ]
    },
    {
     "name": "stdout",
     "output_type": "stream",
     "text": [
      "{'embedding_loss': 0.0258, 'learning_rate': 8.333333333333334e-06, 'epoch': 0.62}\n"
     ]
    },
    {
     "name": "stderr",
     "output_type": "stream",
     "text": [
      "\n",
      "\u001b[A                                              "
     ]
    },
    {
     "name": "stdout",
     "output_type": "stream",
     "text": [
      "{'embedding_loss': 0.0017, 'learning_rate': 3.7037037037037037e-06, 'epoch': 0.83}\n"
     ]
    },
    {
     "name": "stderr",
     "output_type": "stream",
     "text": [
      "\n",
      "100%|██████████| 240/240 [02:21<00:00,  1.70it/s]\n"
     ]
    },
    {
     "name": "stdout",
     "output_type": "stream",
     "text": [
      "{'train_runtime': 141.7662, 'train_samples_per_second': 27.087, 'train_steps_per_second': 1.693, 'epoch': 1.0}\n"
     ]
    },
    {
     "ename": "AttributeError",
     "evalue": "'Series' object has no attribute 'tolistcorrected_file_path'",
     "output_type": "error",
     "traceback": [
      "\u001b[0;31m---------------------------------------------------------------------------\u001b[0m",
      "\u001b[0;31mAttributeError\u001b[0m                            Traceback (most recent call last)",
      "\u001b[1;32m/home/hmx/Downloads/RumourVerification/pipline_builder.ipynb Cell 9\u001b[0m line \u001b[0;36m1\n\u001b[1;32m      <a href='vscode-notebook-cell:/home/hmx/Downloads/RumourVerification/pipline_builder.ipynb#X10sZmlsZQ%3D%3D?line=7'>8</a>\u001b[0m \u001b[39mfrom\u001b[39;00m \u001b[39msklearn\u001b[39;00m\u001b[39m.\u001b[39;00m\u001b[39mmetrics\u001b[39;00m \u001b[39mimport\u001b[39;00m accuracy_score, f1_score\n\u001b[1;32m      <a href='vscode-notebook-cell:/home/hmx/Downloads/RumourVerification/pipline_builder.ipynb#X10sZmlsZQ%3D%3D?line=8'>9</a>\u001b[0m accuracy \u001b[39m=\u001b[39m accuracy_score(test_df[\u001b[39m'\u001b[39m\u001b[39mLabel\u001b[39m\u001b[39m'\u001b[39m]\u001b[39m.\u001b[39mastype(\u001b[39m'\u001b[39m\u001b[39mstr\u001b[39m\u001b[39m'\u001b[39m)\u001b[39m.\u001b[39mtolist(), test_preds, normalize\u001b[39m=\u001b[39m\u001b[39mFalse\u001b[39;00m)\n\u001b[0;32m---> <a href='vscode-notebook-cell:/home/hmx/Downloads/RumourVerification/pipline_builder.ipynb#X10sZmlsZQ%3D%3D?line=9'>10</a>\u001b[0m f1 \u001b[39m=\u001b[39m f1_score(test_df[\u001b[39m'\u001b[39;49m\u001b[39mLabel\u001b[39;49m\u001b[39m'\u001b[39;49m]\u001b[39m.\u001b[39;49mastype(\u001b[39m'\u001b[39;49m\u001b[39mstr\u001b[39;49m\u001b[39m'\u001b[39;49m)\u001b[39m.\u001b[39;49mtolistcorrected_file_path(), test_preds, average\u001b[39m=\u001b[39m\u001b[39m'\u001b[39m\u001b[39mweighted\u001b[39m\u001b[39m'\u001b[39m)\n\u001b[1;32m     <a href='vscode-notebook-cell:/home/hmx/Downloads/RumourVerification/pipline_builder.ipynb#X10sZmlsZQ%3D%3D?line=12'>13</a>\u001b[0m \u001b[39mprint\u001b[39m(\u001b[39mf\u001b[39m\u001b[39m\"\u001b[39m\u001b[39mAccuracy: \u001b[39m\u001b[39m{\u001b[39;00maccuracy\u001b[39m}\u001b[39;00m\u001b[39m\"\u001b[39m)\n\u001b[1;32m     <a href='vscode-notebook-cell:/home/hmx/Downloads/RumourVerification/pipline_builder.ipynb#X10sZmlsZQ%3D%3D?line=13'>14</a>\u001b[0m \u001b[39mprint\u001b[39m(\u001b[39mf\u001b[39m\u001b[39m\"\u001b[39m\u001b[39mF1 Score: \u001b[39m\u001b[39m{\u001b[39;00mf1\u001b[39m}\u001b[39;00m\u001b[39m\"\u001b[39m)\n",
      "File \u001b[0;32m~/miniconda3/envs/rumour_verification/lib/python3.9/site-packages/pandas/core/generic.py:6299\u001b[0m, in \u001b[0;36mNDFrame.__getattr__\u001b[0;34m(self, name)\u001b[0m\n\u001b[1;32m   6292\u001b[0m \u001b[39mif\u001b[39;00m (\n\u001b[1;32m   6293\u001b[0m     name \u001b[39mnot\u001b[39;00m \u001b[39min\u001b[39;00m \u001b[39mself\u001b[39m\u001b[39m.\u001b[39m_internal_names_set\n\u001b[1;32m   6294\u001b[0m     \u001b[39mand\u001b[39;00m name \u001b[39mnot\u001b[39;00m \u001b[39min\u001b[39;00m \u001b[39mself\u001b[39m\u001b[39m.\u001b[39m_metadata\n\u001b[1;32m   6295\u001b[0m     \u001b[39mand\u001b[39;00m name \u001b[39mnot\u001b[39;00m \u001b[39min\u001b[39;00m \u001b[39mself\u001b[39m\u001b[39m.\u001b[39m_accessors\n\u001b[1;32m   6296\u001b[0m     \u001b[39mand\u001b[39;00m \u001b[39mself\u001b[39m\u001b[39m.\u001b[39m_info_axis\u001b[39m.\u001b[39m_can_hold_identifiers_and_holds_name(name)\n\u001b[1;32m   6297\u001b[0m ):\n\u001b[1;32m   6298\u001b[0m     \u001b[39mreturn\u001b[39;00m \u001b[39mself\u001b[39m[name]\n\u001b[0;32m-> 6299\u001b[0m \u001b[39mreturn\u001b[39;00m \u001b[39mobject\u001b[39;49m\u001b[39m.\u001b[39;49m\u001b[39m__getattribute__\u001b[39;49m(\u001b[39mself\u001b[39;49m, name)\n",
      "\u001b[0;31mAttributeError\u001b[0m: 'Series' object has no attribute 'tolistcorrected_file_path'"
     ]
    }
   ],
   "source": [
    "from stormtrooper import SetFitFewShotClassifier\n",
    "\n",
    "model = SetFitFewShotClassifier(model_name=\"sentence-transformers/all-mpnet-base-v2\", device='cuda').fit(df['Rumor'].astype('str').tolist(), df['Label'].astype('str').tolist())\n",
    "\n",
    "test_preds = model.predict(test_df['Rumor'].astype('str').tolist())\n",
    "\n",
    "# calculate accuracy and f1 score base on the prediction and  true labels (test_df['Label'].astype('str').tolist())) \n",
    "from sklearn.metrics import accuracy_score, f1_score\n",
    "accuracy = accuracy_score(test_df['Label'].astype('str').tolist(), test_preds, normalize=False)\n",
    "f1 = f1_score(test_df['Label'].astype('str').tolist(), test_preds, average='weighted')\n",
    "\n",
    "\n",
    "print(f\"Accuracy: {accuracy}\")\n",
    "print(f\"F1 Score: {f1}\")"
   ]
  },
  {
   "cell_type": "code",
   "execution_count": 10,
   "metadata": {},
   "outputs": [
    {
     "name": "stdout",
     "output_type": "stream",
     "text": [
      "Updated JSON file with predictions has been saved to /home/hmx/Downloads/RumourVerification/data/Updated_English_test.json\n"
     ]
    }
   ],
   "source": [
    "# Load the corrected JSON data\n",
    "with open(output_file_path, 'r', encoding='utf-8') as file:\n",
    "    data = json.load(file)\n",
    "    \n",
    "# Prepare the test data (rumors) from the JSON file\n",
    "test_rumors = [item['rumor'] for item in data]\n",
    "\n",
    "    # Add predictions to the JSON data\n",
    "predictions = model.predict(test_rumors)\n",
    "for item, prediction in zip(data, predictions):\n",
    "    item['prediction'] = prediction\n",
    "\n",
    "# Save the updated JSON data with predictions to a new file\n",
    "with open(output_file_with_pred_path, 'w', encoding='utf-8') as file:\n",
    "    json.dump(data, file, ensure_ascii=False, indent=4)\n",
    "\n",
    "print(f\"Updated JSON file with predictions has been saved to {output_file_path}\")"
   ]
  }
 ],
 "metadata": {
  "kernelspec": {
   "display_name": "rumour_verification",
   "language": "python",
   "name": "python3"
  },
  "language_info": {
   "codemirror_mode": {
    "name": "ipython",
    "version": 3
   },
   "file_extension": ".py",
   "mimetype": "text/x-python",
   "name": "python",
   "nbconvert_exporter": "python",
   "pygments_lexer": "ipython3",
   "version": "3.9.19"
  }
 },
 "nbformat": 4,
 "nbformat_minor": 2
}
